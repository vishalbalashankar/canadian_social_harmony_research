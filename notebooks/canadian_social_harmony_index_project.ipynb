{
 "cells": [
  {
   "cell_type": "markdown",
   "id": "finite-liquid",
   "metadata": {},
   "source": [
    "# Canadian Social Harmony Index Visualization Project\n",
    "\n",
    "Note: The data used in this notebook is from the Canadian Social Harmony Study by RA2 and Cause and Effect Marketing. The survey was internally funded by RA2 and Cause and Effect Marketing."
   ]
  },
  {
   "cell_type": "markdown",
   "id": "attached-mainland",
   "metadata": {},
   "source": [
    "[1. Data Exploration](#section1) \n",
    "\n",
    "[2. Find value and value group scores for each person](#section2) \n",
    "\n",
    "[3. Merge responses with answer group](#section3)\n",
    "\n",
    "[4. Figure Widget](#section4) "
   ]
  },
  {
   "cell_type": "code",
   "execution_count": 1,
   "id": "chronic-chicago",
   "metadata": {},
   "outputs": [],
   "source": [
    "# import all the required packages\n",
    "import pandas as pd\n",
    "pd.set_option('display.max_columns', None)\n",
    "\n",
    "import plotly.express as px\n",
    "import numpy as np\n",
    "\n",
    "from IPython.display import clear_output, HTML\n",
    "from ipywidgets import interact, interact_manual, widgets, Layout, Box"
   ]
  },
  {
   "cell_type": "markdown",
   "id": "amber-study",
   "metadata": {},
   "source": [
    "<a id=\"section1\"></a>"
   ]
  },
  {
   "cell_type": "markdown",
   "id": "fewer-china",
   "metadata": {},
   "source": [
    "## 1. Data Exploration"
   ]
  },
  {
   "cell_type": "markdown",
   "id": "auburn-institution",
   "metadata": {},
   "source": [
    "#### Read .csv file"
   ]
  },
  {
   "cell_type": "code",
   "execution_count": 2,
   "id": "narrative-credits",
   "metadata": {},
   "outputs": [],
   "source": [
    "df_responses = pd.read_csv('./data/dfg_survey_responses.csv')\n",
    "df_values = pd.read_csv('./data/dfg_values_key-question-key.csv')\n",
    "df_scale = pd.read_csv('./data/sixPointScale.csv')"
   ]
  },
  {
   "cell_type": "code",
   "execution_count": 3,
   "id": "decreased-concord",
   "metadata": {},
   "outputs": [],
   "source": [
    "df_responses.set_index('ID',inplace=True)\n",
    "#df_responses.head(3)"
   ]
  },
  {
   "cell_type": "code",
   "execution_count": 4,
   "id": "other-documentation",
   "metadata": {},
   "outputs": [],
   "source": [
    "#df_values.head(3)"
   ]
  },
  {
   "cell_type": "code",
   "execution_count": 5,
   "id": "mighty-devil",
   "metadata": {},
   "outputs": [],
   "source": [
    "#df_scale"
   ]
  },
  {
   "cell_type": "markdown",
   "id": "headed-friend",
   "metadata": {},
   "source": [
    "## 1.1 Widget\n",
    "#### - Explore each column"
   ]
  },
  {
   "cell_type": "code",
   "execution_count": 6,
   "id": "fitted-centre",
   "metadata": {},
   "outputs": [
    {
     "data": {
      "application/vnd.jupyter.widget-view+json": {
       "model_id": "d610e7e7d263407f873cf10b40c06f27",
       "version_major": 2,
       "version_minor": 0
      },
      "text/plain": [
       "interactive(children=(Dropdown(description='col_name', options=('FSA', 'Rural_FSA', 'Region', 'YOB', 'Age', 'G…"
      ]
     },
     "metadata": {},
     "output_type": "display_data"
    }
   ],
   "source": [
    "@interact\n",
    "def bar_chart(col_name=list(df_responses.columns[1:])):\n",
    "    df = df_responses.groupby(col_name).agg({'WT': ['sum','count']}).reset_index()\n",
    "    df.columns = df.columns.map(''.join)\n",
    "    df.rename(columns={'WTsum': 'Total_Wt', 'WTcount': 'Total'}, inplace = True)\n",
    "    if col_name in df_values['Key'].values:\n",
    "        fig  = px.bar(df, x=col_name, y = ['Total', 'Total_Wt'], barmode='group', labels = {col_name: df_values.loc[df_values['Key']==col_name,'Question'].values[0]})\n",
    "    else:\n",
    "        fig  = px.bar(df, x=col_name, y = ['Total', 'Total_Wt'], barmode='group')\n",
    "    fig.show()"
   ]
  },
  {
   "cell_type": "code",
   "execution_count": 7,
   "id": "faced-observer",
   "metadata": {},
   "outputs": [],
   "source": [
    "#@interact\n",
    "#def bar_chart(col_name=list(df_values.columns)):\n",
    "#    fig = px.bar(df_values.groupby(col_name)[col_name].count())\n",
    "#    fig.show()"
   ]
  },
  {
   "cell_type": "markdown",
   "id": "following-boards",
   "metadata": {},
   "source": [
    "<a id=\"section2\"></a>"
   ]
  },
  {
   "cell_type": "markdown",
   "id": "collect-philadelphia",
   "metadata": {},
   "source": [
    "## 2.  Find value and value group scores for each id"
   ]
  },
  {
   "cell_type": "markdown",
   "id": "another-theory",
   "metadata": {},
   "source": [
    "#### 2.1. Replace the rating in responses with values for calculating the net score"
   ]
  },
  {
   "cell_type": "code",
   "execution_count": 8,
   "id": "sorted-consultancy",
   "metadata": {},
   "outputs": [],
   "source": [
    "df_questions = df_responses.loc[:,'SV_01':].copy() "
   ]
  },
  {
   "cell_type": "code",
   "execution_count": 9,
   "id": "boxed-bradford",
   "metadata": {},
   "outputs": [
    {
     "data": {
      "text/plain": [
       "{'Not like me at all': 1,\n",
       " 'Not like me': 2,\n",
       " 'Somewhat like me': 3,\n",
       " 'A little like me': 4,\n",
       " 'Like me': 5,\n",
       " 'Very much like me': 6}"
      ]
     },
     "execution_count": 9,
     "metadata": {},
     "output_type": "execute_result"
    }
   ],
   "source": [
    "scale_dict = df_scale.set_index('Rating').T.loc['Scale order'].to_dict()\n",
    "scale_dict "
   ]
  },
  {
   "cell_type": "code",
   "execution_count": 10,
   "id": "excess-credits",
   "metadata": {},
   "outputs": [],
   "source": [
    "df_questions.loc[:,'SV_01':'SV_20'] = df_responses.loc[:,'SV_01':'SV_20'].stack().map(scale_dict).unstack()\n",
    "df_questions.loc[:,'SV_01':'SV_20'] = df_questions.loc[:,'SV_01':'SV_20'].astype(int)\n",
    "#df_questions.head(3)"
   ]
  },
  {
   "cell_type": "markdown",
   "id": "harmful-headquarters",
   "metadata": {},
   "source": [
    "#### 2.2. Create new dataframes for values and value group for each id"
   ]
  },
  {
   "cell_type": "code",
   "execution_count": 11,
   "id": "formed-alpha",
   "metadata": {},
   "outputs": [],
   "source": [
    "df_answers = pd.DataFrame(index = df_responses.index, columns =  df_values['Value'].unique()[:-3])"
   ]
  },
  {
   "cell_type": "code",
   "execution_count": 12,
   "id": "fallen-prescription",
   "metadata": {},
   "outputs": [],
   "source": [
    "# Find the answers to each quesions\n",
    "for val in df_values['Value'].unique()[:-3]:\n",
    "    ques = df_values[df_values['Value']==val]['Key'].values\n",
    "    df_answers.loc[:,val] = ((df_questions.loc[:,ques[0]] + df_questions.loc[:,ques[1]])/2)*df_responses.loc[:,'WT']"
   ]
  },
  {
   "cell_type": "code",
   "execution_count": 13,
   "id": "czech-happiness",
   "metadata": {},
   "outputs": [],
   "source": [
    "#df_answers.head(3)"
   ]
  },
  {
   "cell_type": "code",
   "execution_count": 14,
   "id": "junior-american",
   "metadata": {},
   "outputs": [],
   "source": [
    "df_answers_group = pd.DataFrame(index = df_responses.index,columns = df_values['Value Group'].unique()[:-1])"
   ]
  },
  {
   "cell_type": "code",
   "execution_count": 15,
   "id": "southeast-lloyd",
   "metadata": {},
   "outputs": [],
   "source": [
    "for val_group in df_answers_group.columns:\n",
    "    matching_values = df_values[df_values['Value Group'] == val_group]['Value'].unique()\n",
    "    df_answers_group.loc[:,val_group] = df_answers[matching_values].sum(axis=1)"
   ]
  },
  {
   "cell_type": "code",
   "execution_count": 16,
   "id": "maritime-ministry",
   "metadata": {},
   "outputs": [],
   "source": [
    "#df_answers_group.head(3)"
   ]
  },
  {
   "cell_type": "markdown",
   "id": "iraqi-fisher",
   "metadata": {},
   "source": [
    "<a id=\"section3\"></a>"
   ]
  },
  {
   "cell_type": "markdown",
   "id": "obvious-danger",
   "metadata": {},
   "source": [
    "# 3. Merge responses with value group"
   ]
  },
  {
   "cell_type": "code",
   "execution_count": 17,
   "id": "bacterial-willow",
   "metadata": {},
   "outputs": [],
   "source": [
    "df_all = df_responses.copy()"
   ]
  },
  {
   "cell_type": "code",
   "execution_count": 18,
   "id": "measured-windows",
   "metadata": {},
   "outputs": [],
   "source": [
    "df_all.loc[:,df_answers_group.columns] = df_answers_group\n",
    "df_all.loc[:,df_answers.columns] = df_answers.astype(float)\n",
    "#df_all.head(3)"
   ]
  },
  {
   "cell_type": "code",
   "execution_count": 19,
   "id": "adjusted-governor",
   "metadata": {},
   "outputs": [],
   "source": [
    "#df_all.head(3)"
   ]
  },
  {
   "cell_type": "markdown",
   "id": "requested-semiconductor",
   "metadata": {},
   "source": [
    "<a id=\"section4\"></a>"
   ]
  },
  {
   "cell_type": "markdown",
   "id": "split-drive",
   "metadata": {},
   "source": [
    "## 4. Figure Widget"
   ]
  },
  {
   "cell_type": "code",
   "execution_count": 21,
   "id": "other-intro",
   "metadata": {},
   "outputs": [
    {
     "data": {
      "application/vnd.jupyter.widget-view+json": {
       "model_id": "604dfc4742f0470c84eee5f565f04f07",
       "version_major": 2,
       "version_minor": 0
      },
      "text/plain": [
       "Box(children=(Dropdown(description='Feature: ', index=2, layout=Layout(width='initial'), options=('FSA', 'Rura…"
      ]
     },
     "metadata": {},
     "output_type": "display_data"
    },
    {
     "data": {
      "application/vnd.jupyter.widget-view+json": {
       "model_id": "5864976550054474b56ee5ac58ebba32",
       "version_major": 2,
       "version_minor": 0
      },
      "text/plain": [
       "Box(children=(Checkbox(value=False, description='Percentage', indent=False),))"
      ]
     },
     "metadata": {},
     "output_type": "display_data"
    },
    {
     "data": {
      "application/vnd.jupyter.widget-view+json": {
       "model_id": "00eb884f38dc48fd83a61a0e01ef2fb0",
       "version_major": 2,
       "version_minor": 0
      },
      "text/plain": [
       "Box(children=(Output(),), layout=Layout(align_items='center', display='flex', flex_flow='row', justify_content…"
      ]
     },
     "metadata": {},
     "output_type": "display_data"
    }
   ],
   "source": [
    "def on_button_clicked(arg):\n",
    "    with out:\n",
    "        clear_output()\n",
    "        if type_dropdown.value=='Value':\n",
    "            col = df_values['Value'].unique()[:-3]\n",
    "        else:\n",
    "            col = df_values['Value Group'].unique()[:-1]\n",
    "        col_list = col.tolist()\n",
    "        col_list.insert(0, 'WT')\n",
    "        col_list.append(feature_dropdown.value)\n",
    "        df_plot = df_all.groupby(feature_dropdown.value)[col_list].sum().reset_index()\n",
    "        df_plot.set_index(feature_dropdown.value, inplace=True)\n",
    "        if check_dropdown.value:\n",
    "            df_plot.iloc[:,1:] = df_plot.iloc[:,1:].div(df_plot.WT, axis=0)\n",
    "            df_plot.drop('WT',axis=1,inplace=True)\n",
    "            df_plot.loc['total',:] = df_plot.sum(axis=0)\n",
    "            df_plot.iloc[:-1,:] = df_plot.iloc[:-1,:] / df_plot.iloc[-1,:]\n",
    "            df_plot.drop(['total'],inplace = True)\n",
    "            df_plot = df_plot.T\n",
    "            fig = px.bar(df_plot, x= df_plot.index, y = df_plot.columns)\n",
    "        else:\n",
    "            df_plot.drop('WT',axis=1,inplace=True)\n",
    "            df_plot = df_plot.T\n",
    "            fig = px.bar(df_plot, x= df_plot.index, y = df_plot.columns)\n",
    "        fig.show()\n",
    "\n",
    "box_layout = Layout(display=\"flex\", flex_flow='row', align_items='center', width='100%', justify_content = 'center')\n",
    "\n",
    "feature_dropdown = widgets.Dropdown(\n",
    "    options = df_responses.columns[1:-23],\n",
    "    description = 'Feature: ',\n",
    "    value = 'Region',\n",
    "    style={'description_width': 'initial'},\n",
    "    layout={'width': 'initial'}, \n",
    ")\n",
    "\n",
    "type_dropdown = widgets.Dropdown(\n",
    "    options = ['Value', 'Value group'],\n",
    "    description = 'Type: ',\n",
    "    value = 'Value',\n",
    "    style={'description_width': 'initial'},\n",
    "    layout={'width': 'initial'}, \n",
    ")\n",
    "\n",
    "check_dropdown = widgets.Checkbox(\n",
    "    value=False,\n",
    "    description='Percentage',\n",
    "    disabled=False,\n",
    "    indent=False\n",
    ")\n",
    "\n",
    "go_button = widgets.Button(\n",
    "    description='Submit',\n",
    "    disabled=False,\n",
    "    button_style='success',\n",
    ")\n",
    "\n",
    "go_button.on_click(on_button_clicked)\n",
    "out = widgets.Output()\n",
    "display(Box(children = [feature_dropdown, type_dropdown, go_button]), layout = box_layout)\n",
    "display(Box(children = [check_dropdown]), layout = box_layout)\n",
    "display(Box(children = [out], layout=box_layout))"
   ]
  }
 ],
 "metadata": {
  "kernelspec": {
   "display_name": "Python 3",
   "language": "python",
   "name": "python3"
  },
  "language_info": {
   "codemirror_mode": {
    "name": "ipython",
    "version": 3
   },
   "file_extension": ".py",
   "mimetype": "text/x-python",
   "name": "python",
   "nbconvert_exporter": "python",
   "pygments_lexer": "ipython3",
   "version": "3.8.6"
  }
 },
 "nbformat": 4,
 "nbformat_minor": 5
}
