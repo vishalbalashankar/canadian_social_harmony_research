{
 "cells": [
  {
   "cell_type": "markdown",
   "id": "framed-movement",
   "metadata": {},
   "source": [
    "# Canadian Social Harmony Index Visualization Project\n",
    "\n",
    "Note: The data used in this notebook is from the Canadian Social Harmony Study by RA2 and Cause and Effect Marketing. The survey was internally funded by RA2 and Cause and Effect Marketing."
   ]
  },
  {
   "cell_type": "markdown",
   "id": "liberal-theme",
   "metadata": {},
   "source": [
    "[1. Data Exploration](#section1) \n",
    "\n",
    "[2. Find value and value group scores for each person](#section2) \n",
    "\n",
    "[3. Merge responses with answer group](#section3)\n",
    "\n",
    "[4. Figure Widget](#section4) "
   ]
  },
  {
   "cell_type": "code",
   "execution_count": 1,
   "id": "threatened-python",
   "metadata": {},
   "outputs": [],
   "source": [
    "# import all the required packages\n",
    "import pandas as pd\n",
    "pd.set_option('display.max_columns', None)\n",
    "\n",
    "import plotly.express as px\n",
    "import numpy as np\n",
    "\n",
    "from IPython.display import clear_output, HTML\n",
    "from ipywidgets import interact, interact_manual, widgets, Layout, Box"
   ]
  },
  {
   "cell_type": "markdown",
   "id": "solar-sympathy",
   "metadata": {},
   "source": [
    "<a id=\"section1\"></a>"
   ]
  },
  {
   "cell_type": "markdown",
   "id": "hybrid-scoop",
   "metadata": {},
   "source": [
    "## 1. Data Exploration"
   ]
  },
  {
   "cell_type": "markdown",
   "id": "suitable-calcium",
   "metadata": {},
   "source": [
    "#### Read .csv file"
   ]
  },
  {
   "cell_type": "code",
   "execution_count": 2,
   "id": "understood-encyclopedia",
   "metadata": {},
   "outputs": [],
   "source": [
    "df_responses = pd.read_csv('./data/dfg_survey_responses.csv')\n",
    "df_values = pd.read_csv('./data/dfg_values_key-question-key.csv')\n",
    "df_scale = pd.read_csv('./data/sixPointScale.csv')"
   ]
  },
  {
   "cell_type": "code",
   "execution_count": 3,
   "id": "surprised-hello",
   "metadata": {},
   "outputs": [],
   "source": [
    "df_responses.set_index('ID',inplace=True)\n",
    "#df_responses.head(3)"
   ]
  },
  {
   "cell_type": "code",
   "execution_count": 4,
   "id": "close-essence",
   "metadata": {},
   "outputs": [],
   "source": [
    "#df_values.head(3)"
   ]
  },
  {
   "cell_type": "code",
   "execution_count": 5,
   "id": "adequate-syndrome",
   "metadata": {},
   "outputs": [],
   "source": [
    "#df_scale"
   ]
  },
  {
   "cell_type": "markdown",
   "id": "collectible-citizenship",
   "metadata": {},
   "source": [
    "## 1.1 Widget\n",
    "#### - Explore each column"
   ]
  },
  {
   "cell_type": "code",
   "execution_count": 6,
   "id": "antique-stress",
   "metadata": {},
   "outputs": [
    {
     "data": {
      "application/vnd.jupyter.widget-view+json": {
       "model_id": "cc6395e93bdf48bb900bd5cd026b236c",
       "version_major": 2,
       "version_minor": 0
      },
      "text/plain": [
       "interactive(children=(Dropdown(description='col_name', options=('FSA', 'Rural_FSA', 'Region', 'YOB', 'Age', 'G…"
      ]
     },
     "metadata": {},
     "output_type": "display_data"
    }
   ],
   "source": [
    "@interact\n",
    "def bar_chart(col_name=list(df_responses.columns[1:])):\n",
    "    df = df_responses.groupby(col_name).agg({'WT': ['sum','count']}).reset_index()\n",
    "    df.columns = df.columns.map(''.join)\n",
    "    df.rename(columns={'WTsum': 'Total_Wt', 'WTcount': 'Total'}, inplace = True)\n",
    "    if col_name in df_values['Key'].values:\n",
    "        fig  = px.bar(df, x=col_name, y = ['Total', 'Total_Wt'], barmode='group', labels = {col_name: df_values.loc[df_values['Key']==col_name,'Question'].values[0]})\n",
    "    else:\n",
    "        fig  = px.bar(df, x=col_name, y = ['Total', 'Total_Wt'], barmode='group')\n",
    "    fig.show()"
   ]
  },
  {
   "cell_type": "code",
   "execution_count": 7,
   "id": "worldwide-prevention",
   "metadata": {},
   "outputs": [],
   "source": [
    "#@interact\n",
    "#def bar_chart(col_name=list(df_values.columns)):\n",
    "#    fig = px.bar(df_values.groupby(col_name)[col_name].count())\n",
    "#    fig.show()"
   ]
  },
  {
   "cell_type": "markdown",
   "id": "animal-carry",
   "metadata": {},
   "source": [
    "<a id=\"section2\"></a>"
   ]
  },
  {
   "cell_type": "markdown",
   "id": "important-blackjack",
   "metadata": {},
   "source": [
    "## 2.  Find value and value group scores for each id"
   ]
  },
  {
   "cell_type": "markdown",
   "id": "heavy-medication",
   "metadata": {},
   "source": [
    "#### 2.1. Replace the rating in responses with values for calculating the net score"
   ]
  },
  {
   "cell_type": "code",
   "execution_count": 8,
   "id": "straight-wheel",
   "metadata": {},
   "outputs": [],
   "source": [
    "df_questions = df_responses.loc[:,'SV_01':].copy() "
   ]
  },
  {
   "cell_type": "code",
   "execution_count": 9,
   "id": "architectural-excitement",
   "metadata": {},
   "outputs": [
    {
     "data": {
      "text/plain": [
       "{'Not like me at all': 1,\n",
       " 'Not like me': 2,\n",
       " 'Somewhat like me': 3,\n",
       " 'A little like me': 4,\n",
       " 'Like me': 5,\n",
       " 'Very much like me': 6}"
      ]
     },
     "execution_count": 9,
     "metadata": {},
     "output_type": "execute_result"
    }
   ],
   "source": [
    "scale_dict = df_scale.set_index('Rating').T.loc['Scale order'].to_dict()\n",
    "scale_dict "
   ]
  },
  {
   "cell_type": "code",
   "execution_count": 10,
   "id": "progressive-manufacturer",
   "metadata": {},
   "outputs": [],
   "source": [
    "df_questions.loc[:,'SV_01':'SV_20'] = df_responses.loc[:,'SV_01':'SV_20'].stack().map(scale_dict).unstack()\n",
    "df_questions.loc[:,'SV_01':'SV_20'] = df_questions.loc[:,'SV_01':'SV_20'].astype(int)\n",
    "#df_questions.head(3)"
   ]
  },
  {
   "cell_type": "markdown",
   "id": "auburn-depth",
   "metadata": {},
   "source": [
    "#### 2.2. Create new dataframes for values and value group for each id"
   ]
  },
  {
   "cell_type": "code",
   "execution_count": 12,
   "id": "pointed-gossip",
   "metadata": {},
   "outputs": [],
   "source": [
    "df_answers = pd.DataFrame(index = df_responses.index, columns =  df_values['Value'].unique()[:-3])\n",
    "df_answers_unweighted = pd.DataFrame(index = df_responses.index, columns =  df_values['Value'].unique()[:-3])"
   ]
  },
  {
   "cell_type": "code",
   "execution_count": 13,
   "id": "corporate-proposal",
   "metadata": {},
   "outputs": [],
   "source": [
    "# Find the answers to each quesions\n",
    "for val in df_values['Value'].unique()[:-3]:\n",
    "    ques = df_values[df_values['Value']==val]['Key'].values\n",
    "    df_answers.loc[:,val] = ((df_questions.loc[:,ques[0]] + df_questions.loc[:,ques[1]])/2)*df_responses.loc[:,'WT']\n",
    "    df_answers_unweighted.loc[:,val] = ((df_questions.loc[:,ques[0]] + df_questions.loc[:,ques[1]])/2)"
   ]
  },
  {
   "cell_type": "code",
   "execution_count": 13,
   "id": "polyphonic-pizza",
   "metadata": {},
   "outputs": [],
   "source": [
    "#df_answers.head(3)"
   ]
  },
  {
   "cell_type": "code",
   "execution_count": 14,
   "id": "outer-chamber",
   "metadata": {},
   "outputs": [],
   "source": [
    "df_answers_group = pd.DataFrame(index = df_responses.index,columns = df_values['Value Group'].unique()[:-1])\n",
    "df_answers_group_unweighted = pd.DataFrame(index = df_responses.index,columns = df_values['Value Group'].unique()[:-1])"
   ]
  },
  {
   "cell_type": "code",
   "execution_count": 15,
   "id": "respected-phase",
   "metadata": {},
   "outputs": [],
   "source": [
    "for val_group in df_answers_group.columns:\n",
    "    matching_values = df_values[df_values['Value Group'] == val_group]['Value'].unique()\n",
    "    df_answers_group.loc[:,val_group] = df_answers[matching_values].sum(axis=1)\n",
    "    df_answers_group_unweighted.loc[:,val_group] = df_answers_unweighted[matching_values].sum(axis=1)"
   ]
  },
  {
   "cell_type": "code",
   "execution_count": 19,
   "id": "insured-profile",
   "metadata": {},
   "outputs": [],
   "source": [
    "#df_answers_unweighted.head(3)"
   ]
  },
  {
   "cell_type": "markdown",
   "id": "greek-fishing",
   "metadata": {},
   "source": [
    "<a id=\"section3\"></a>"
   ]
  },
  {
   "cell_type": "markdown",
   "id": "stuffed-lease",
   "metadata": {},
   "source": [
    "# 3. Merge responses with value group"
   ]
  },
  {
   "cell_type": "code",
   "execution_count": 21,
   "id": "coral-enlargement",
   "metadata": {},
   "outputs": [],
   "source": [
    "df_all = df_responses.copy()\n",
    "df_all_unweighted = df_responses.copy()"
   ]
  },
  {
   "cell_type": "code",
   "execution_count": 22,
   "id": "exposed-element",
   "metadata": {},
   "outputs": [],
   "source": [
    "df_all.loc[:,df_answers_group.columns] = df_answers_group\n",
    "df_all.loc[:,df_answers.columns] = df_answers.astype(float)\n",
    "df_all_unweighted.loc[:,df_answers_group_unweighted.columns] = df_answers_group_unweighted\n",
    "df_all_unweighted.loc[:,df_answers_unweighted.columns] = df_answers_unweighted.astype(float)\n",
    "#df_all.head(3)"
   ]
  },
  {
   "cell_type": "code",
   "execution_count": 24,
   "id": "impossible-specialist",
   "metadata": {},
   "outputs": [],
   "source": [
    "#df_all_unweighted.head(3)"
   ]
  },
  {
   "cell_type": "markdown",
   "id": "sought-place",
   "metadata": {},
   "source": [
    "<a id=\"section4\"></a>"
   ]
  },
  {
   "cell_type": "markdown",
   "id": "direct-activation",
   "metadata": {},
   "source": [
    "## 4. Figure Widget"
   ]
  },
  {
   "cell_type": "code",
   "execution_count": 49,
   "id": "capital-livestock",
   "metadata": {},
   "outputs": [
    {
     "data": {
      "application/vnd.jupyter.widget-view+json": {
       "model_id": "2af579ba98ad4a6aba9fce6a7b346db5",
       "version_major": 2,
       "version_minor": 0
      },
      "text/plain": [
       "Box(children=(Dropdown(description='Feature: ', index=2, layout=Layout(width='initial'), options=('FSA', 'Rura…"
      ]
     },
     "metadata": {},
     "output_type": "display_data"
    },
    {
     "data": {
      "application/vnd.jupyter.widget-view+json": {
       "model_id": "10c8aef056484ec98974fa0647261891",
       "version_major": 2,
       "version_minor": 0
      },
      "text/plain": [
       "Box(children=(Checkbox(value=False, description='Percentage', indent=False), Checkbox(value=False, description…"
      ]
     },
     "metadata": {},
     "output_type": "display_data"
    },
    {
     "data": {
      "application/vnd.jupyter.widget-view+json": {
       "model_id": "058d50df8ab746bd8cb89837e819d04b",
       "version_major": 2,
       "version_minor": 0
      },
      "text/plain": [
       "Box(children=(Output(),), layout=Layout(align_items='center', display='flex', flex_flow='row', justify_content…"
      ]
     },
     "metadata": {},
     "output_type": "display_data"
    }
   ],
   "source": [
    "def on_button_clicked(arg):\n",
    "    with out:\n",
    "        clear_output()\n",
    "        if not feature_dropdown.value==\"YOB\":\n",
    "            if label_dropdown.value=='Value':\n",
    "                col = df_values['Value'].unique()[:-3]\n",
    "            else:\n",
    "                col = df_values['Value Group'].unique()[:-1]\n",
    "            col_list = col.tolist()\n",
    "            col_list.insert(0, 'WT')\n",
    "            col_list.append(feature_dropdown.value)\n",
    "\n",
    "            if weight_dropdown.value:\n",
    "                df_tot = df_all.copy()\n",
    "                df_plot = df_tot.groupby(feature_dropdown.value)[col_list].sum().reset_index()\n",
    "            else:\n",
    "                df_tot = df_all_unweighted.copy()\n",
    "                df_plot = df_tot.groupby(feature_dropdown.value)[col_list].mean().reset_index()\n",
    "\n",
    "            df_plot.set_index(feature_dropdown.value, inplace=True)\n",
    "            df_plot.iloc[:,1:] = df_plot.iloc[:,1:].div(df_plot.WT, axis=0)\n",
    "            df_plot.drop('WT',axis=1,inplace=True)\n",
    "\n",
    "            if check_dropdown.value:    \n",
    "                df_plot.loc['total',:] = df_plot.sum(axis=0)\n",
    "                df_plot.iloc[:-1,:] = df_plot.iloc[:-1,:] / df_plot.iloc[-1,:]\n",
    "                df_plot.drop(['total'],inplace = True)\n",
    "                df_plot = df_plot.T\n",
    "                fig = px.bar(df_plot, x= df_plot.index, y = df_plot.columns)\n",
    "            else:\n",
    "                df_plot = df_plot.T\n",
    "                fig = px.bar(df_plot, x= df_plot.index, y = df_plot.columns)\n",
    "            fig.show()\n",
    "        else:\n",
    "            display(\"Wrong input\")\n",
    "\n",
    "box_layout = Layout(display=\"flex\", flex_flow='row', align_items='center', width='100%', justify_content = 'center')\n",
    "\n",
    "feature_dropdown = widgets.Dropdown(\n",
    "    options = df_responses.columns[1:-23],\n",
    "    description = 'Feature: ',\n",
    "    value = 'Region',\n",
    "    style={'description_width': 'initial'},\n",
    "    layout={'width': 'initial'}, \n",
    ")\n",
    "\n",
    "label_dropdown = widgets.Dropdown(\n",
    "    options = ['Value', 'Value group'],\n",
    "    description = 'Label: ',\n",
    "    value = 'Value',\n",
    "    style={'description_width': 'initial'},\n",
    "    layout={'width': 'initial'}, \n",
    ")\n",
    "\n",
    "check_dropdown = widgets.Checkbox(\n",
    "    value=False,\n",
    "    description='Percentage',\n",
    "    disabled=False,\n",
    "    indent=False\n",
    ")\n",
    "\n",
    "weight_dropdown = widgets.Checkbox(\n",
    "    value=False,\n",
    "    description='Weighted',\n",
    "    disabled=False,\n",
    "    indent=False\n",
    ")\n",
    "\n",
    "go_button = widgets.Button(\n",
    "    description='Submit',\n",
    "    disabled=False,\n",
    "    button_style='success',\n",
    ")\n",
    "\n",
    "go_button.on_click(on_button_clicked)\n",
    "out = widgets.Output()\n",
    "display(Box(children = [feature_dropdown, label_dropdown, go_button]), layout = box_layout)\n",
    "display(Box(children = [check_dropdown, weight_dropdown]), layout = box_layout)\n",
    "display(Box(children = [out], layout=box_layout))"
   ]
  },
  {
   "cell_type": "code",
   "execution_count": null,
   "id": "noble-playing",
   "metadata": {},
   "outputs": [],
   "source": []
  }
 ],
 "metadata": {
  "kernelspec": {
   "display_name": "Python 3",
   "language": "python",
   "name": "python3"
  },
  "language_info": {
   "codemirror_mode": {
    "name": "ipython",
    "version": 3
   },
   "file_extension": ".py",
   "mimetype": "text/x-python",
   "name": "python",
   "nbconvert_exporter": "python",
   "pygments_lexer": "ipython3",
   "version": "3.8.6"
  }
 },
 "nbformat": 4,
 "nbformat_minor": 5
}
