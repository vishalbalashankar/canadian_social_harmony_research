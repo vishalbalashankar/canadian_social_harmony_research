{
 "cells": [
  {
   "cell_type": "markdown",
   "id": "handmade-grace",
   "metadata": {},
   "source": [
    "# Canadian Social Harmony Index Visualization Project\n",
    "\n",
    "Note: The data used in this notebook is from the Canadian Social Harmony Study by RA2 and Cause and Effect Marketing. The survey was internally funded by RA2 and Cause and Effect Marketing."
   ]
  },
  {
   "cell_type": "markdown",
   "id": "norman-monroe",
   "metadata": {},
   "source": [
    "[1. Data Exploration](#section1) \n",
    "\n",
    "[2. Find value and value group scores for each person](#section2) \n",
    "\n",
    "[3. Merge responses with answer group](#section3)\n",
    "\n",
    "[4. Figure Widget](#section4) "
   ]
  },
  {
   "cell_type": "code",
   "execution_count": 1,
   "id": "polar-bidding",
   "metadata": {},
   "outputs": [],
   "source": [
    "# import all the required packages\n",
    "import pandas as pd\n",
    "pd.set_option('display.max_columns', None)\n",
    "\n",
    "import plotly.express as px\n",
    "import numpy as np\n",
    "\n",
    "from IPython.display import clear_output, HTML\n",
    "from ipywidgets import interact, interact_manual, widgets, Layout, Box"
   ]
  },
  {
   "cell_type": "markdown",
   "id": "allied-bedroom",
   "metadata": {},
   "source": [
    "<a id=\"section1\"></a>"
   ]
  },
  {
   "cell_type": "markdown",
   "id": "regulation-quebec",
   "metadata": {},
   "source": [
    "## 1. Data Exploration"
   ]
  },
  {
   "cell_type": "markdown",
   "id": "swedish-encyclopedia",
   "metadata": {},
   "source": [
    "#### Read .csv file"
   ]
  },
  {
   "cell_type": "code",
   "execution_count": 2,
   "id": "short-economy",
   "metadata": {},
   "outputs": [],
   "source": [
    "df_responses = pd.read_csv('./data/dfg_survey_responses.csv')\n",
    "df_values = pd.read_csv('./data/dfg_values_key-question-key.csv')\n",
    "df_scale = pd.read_csv('./data/sixPointScale.csv')"
   ]
  },
  {
   "cell_type": "code",
   "execution_count": 3,
   "id": "horizontal-daughter",
   "metadata": {},
   "outputs": [],
   "source": [
    "df_responses.set_index('ID',inplace=True)\n",
    "#df_responses.head(3)"
   ]
  },
  {
   "cell_type": "code",
   "execution_count": 4,
   "id": "green-viking",
   "metadata": {},
   "outputs": [],
   "source": [
    "#df_values.head(3)"
   ]
  },
  {
   "cell_type": "code",
   "execution_count": 5,
   "id": "thorough-blood",
   "metadata": {},
   "outputs": [],
   "source": [
    "#df_scale"
   ]
  },
  {
   "cell_type": "markdown",
   "id": "proper-toddler",
   "metadata": {},
   "source": [
    "## 1.1 Widget\n",
    "#### - Explore each column"
   ]
  },
  {
   "cell_type": "code",
   "execution_count": 6,
   "id": "roman-preparation",
   "metadata": {},
   "outputs": [
    {
     "data": {
      "application/vnd.jupyter.widget-view+json": {
       "model_id": "d967346632ea49c2a1112e006e5a3d53",
       "version_major": 2,
       "version_minor": 0
      },
      "text/plain": [
       "interactive(children=(Dropdown(description='col_name', options=('FSA', 'Rural_FSA', 'Region', 'YOB', 'Age', 'G…"
      ]
     },
     "metadata": {},
     "output_type": "display_data"
    }
   ],
   "source": [
    "@interact\n",
    "def bar_chart(col_name=list(df_responses.columns[1:])):\n",
    "    df = df_responses.groupby(col_name).agg({'WT': ['sum','count']}).reset_index()\n",
    "    df.columns = df.columns.map(''.join)\n",
    "    df.rename(columns={'WTsum': 'Total_Wt', 'WTcount': 'Total'}, inplace = True)\n",
    "    if col_name in df_values['Key'].values:\n",
    "        fig  = px.bar(df, x=col_name, y = ['Total', 'Total_Wt'], barmode='group', labels = {col_name: df_values.loc[df_values['Key']==col_name,'Question'].values[0]})\n",
    "    else:\n",
    "        fig  = px.bar(df, x=col_name, y = ['Total', 'Total_Wt'], barmode='group')\n",
    "    fig.show()"
   ]
  },
  {
   "cell_type": "code",
   "execution_count": 7,
   "id": "ceramic-cleveland",
   "metadata": {},
   "outputs": [],
   "source": [
    "#@interact\n",
    "#def bar_chart(col_name=list(df_values.columns)):\n",
    "#    fig = px.bar(df_values.groupby(col_name)[col_name].count())\n",
    "#    fig.show()"
   ]
  },
  {
   "cell_type": "markdown",
   "id": "frank-index",
   "metadata": {},
   "source": [
    "<a id=\"section2\"></a>"
   ]
  },
  {
   "cell_type": "markdown",
   "id": "innocent-front",
   "metadata": {},
   "source": [
    "## 2.  Find value and value group scores for each id"
   ]
  },
  {
   "cell_type": "markdown",
   "id": "formed-simple",
   "metadata": {},
   "source": [
    "#### 2.1. Replace the rating in responses with values for calculating the net score"
   ]
  },
  {
   "cell_type": "code",
   "execution_count": 8,
   "id": "widespread-concentrate",
   "metadata": {},
   "outputs": [],
   "source": [
    "df_questions = df_responses.loc[:,'SV_01':].copy() "
   ]
  },
  {
   "cell_type": "code",
   "execution_count": 22,
   "id": "resistant-strip",
   "metadata": {},
   "outputs": [
    {
     "data": {
      "text/plain": [
       "{'Not like me at all': 6,\n",
       " 'Not like me': 5,\n",
       " 'Somewhat like me': 4,\n",
       " 'A little like me': 3,\n",
       " 'Like me': 2,\n",
       " 'Very much like me': 1}"
      ]
     },
     "execution_count": 22,
     "metadata": {},
     "output_type": "execute_result"
    }
   ],
   "source": [
    "scale_dict = df_scale.set_index('Rating').T.loc['Sort like to not like'].to_dict()\n",
    "scale_dict "
   ]
  },
  {
   "cell_type": "code",
   "execution_count": 10,
   "id": "fabulous-exposure",
   "metadata": {},
   "outputs": [],
   "source": [
    "df_questions.loc[:,'SV_01':'SV_20'] = df_responses.loc[:,'SV_01':'SV_20'].stack().map(scale_dict).unstack()\n",
    "df_questions.loc[:,'SV_01':'SV_20'] = df_questions.loc[:,'SV_01':'SV_20'].astype(int)\n",
    "#df_questions.head(3)"
   ]
  },
  {
   "cell_type": "markdown",
   "id": "threatened-charter",
   "metadata": {},
   "source": [
    "#### 2.2. Create new dataframes for values and value group for each id"
   ]
  },
  {
   "cell_type": "code",
   "execution_count": 11,
   "id": "collaborative-possible",
   "metadata": {},
   "outputs": [],
   "source": [
    "df_answers = pd.DataFrame(index = df_responses.index, columns =  df_values['Value'].unique()[:-3])\n",
    "df_answers_unweighted = pd.DataFrame(index = df_responses.index, columns =  df_values['Value'].unique()[:-3])"
   ]
  },
  {
   "cell_type": "code",
   "execution_count": 12,
   "id": "agreed-burlington",
   "metadata": {},
   "outputs": [],
   "source": [
    "# Find the answers to each quesions\n",
    "for val in df_values['Value'].unique()[:-3]:\n",
    "    ques = df_values[df_values['Value']==val]['Key'].values\n",
    "    df_answers.loc[:,val] = ((df_questions.loc[:,ques[0]] + df_questions.loc[:,ques[1]])/2)*df_responses.loc[:,'WT']\n",
    "    df_answers_unweighted.loc[:,val] = ((df_questions.loc[:,ques[0]] + df_questions.loc[:,ques[1]])/2)"
   ]
  },
  {
   "cell_type": "code",
   "execution_count": 13,
   "id": "champion-reunion",
   "metadata": {},
   "outputs": [],
   "source": [
    "#df_answers.head(3)"
   ]
  },
  {
   "cell_type": "code",
   "execution_count": 14,
   "id": "proud-clause",
   "metadata": {},
   "outputs": [],
   "source": [
    "df_answers_group = pd.DataFrame(index = df_responses.index,columns = df_values['Value Group'].unique()[:-1])\n",
    "df_answers_group_unweighted = pd.DataFrame(index = df_responses.index,columns = df_values['Value Group'].unique()[:-1])"
   ]
  },
  {
   "cell_type": "code",
   "execution_count": 15,
   "id": "decimal-planet",
   "metadata": {},
   "outputs": [],
   "source": [
    "for val_group in df_answers_group.columns:\n",
    "    matching_values = df_values[df_values['Value Group'] == val_group]['Value'].unique()\n",
    "    df_answers_group.loc[:,val_group] = df_answers[matching_values].sum(axis=1)\n",
    "    df_answers_group_unweighted.loc[:,val_group] = df_answers_unweighted[matching_values].sum(axis=1)"
   ]
  },
  {
   "cell_type": "code",
   "execution_count": 16,
   "id": "choice-newman",
   "metadata": {},
   "outputs": [],
   "source": [
    "#df_answers_unweighted.head(3)"
   ]
  },
  {
   "cell_type": "markdown",
   "id": "vietnamese-citizen",
   "metadata": {},
   "source": [
    "<a id=\"section3\"></a>"
   ]
  },
  {
   "cell_type": "markdown",
   "id": "precise-protest",
   "metadata": {},
   "source": [
    "# 3. Merge responses with value group"
   ]
  },
  {
   "cell_type": "code",
   "execution_count": 17,
   "id": "future-forwarding",
   "metadata": {},
   "outputs": [],
   "source": [
    "df_all = df_responses.copy()\n",
    "df_all_unweighted = df_responses.copy()"
   ]
  },
  {
   "cell_type": "code",
   "execution_count": 18,
   "id": "maritime-corner",
   "metadata": {},
   "outputs": [],
   "source": [
    "df_all.loc[:,df_answers_group.columns] = df_answers_group\n",
    "df_all.loc[:,df_answers.columns] = df_answers.astype(float)\n",
    "df_all_unweighted.loc[:,df_answers_group_unweighted.columns] = df_answers_group_unweighted\n",
    "df_all_unweighted.loc[:,df_answers_unweighted.columns] = df_answers_unweighted.astype(float)\n",
    "#df_all.head(3)"
   ]
  },
  {
   "cell_type": "code",
   "execution_count": 19,
   "id": "yellow-queensland",
   "metadata": {},
   "outputs": [],
   "source": [
    "#df_all_unweighted.head(3)"
   ]
  },
  {
   "cell_type": "markdown",
   "id": "national-omaha",
   "metadata": {},
   "source": [
    "<a id=\"section4\"></a>"
   ]
  },
  {
   "cell_type": "markdown",
   "id": "constitutional-senate",
   "metadata": {},
   "source": [
    "## 4. Figure Widget"
   ]
  },
  {
   "cell_type": "code",
   "execution_count": 24,
   "id": "molecular-service",
   "metadata": {},
   "outputs": [
    {
     "data": {
      "application/vnd.jupyter.widget-view+json": {
       "model_id": "fc9524cac0da4e1a83a5eaf14e0be489",
       "version_major": 2,
       "version_minor": 0
      },
      "text/plain": [
       "Box(children=(Dropdown(description='Feature: ', index=2, layout=Layout(width='initial'), options=('FSA', 'Rura…"
      ]
     },
     "metadata": {},
     "output_type": "display_data"
    },
    {
     "data": {
      "application/vnd.jupyter.widget-view+json": {
       "model_id": "4c03421e07564f359ac6597e586e4ebe",
       "version_major": 2,
       "version_minor": 0
      },
      "text/plain": [
       "Box(children=(Checkbox(value=False, description='Percentage', indent=False), Checkbox(value=False, description…"
      ]
     },
     "metadata": {},
     "output_type": "display_data"
    },
    {
     "data": {
      "application/vnd.jupyter.widget-view+json": {
       "model_id": "f61388a36c114d399767776c6bc8bbf8",
       "version_major": 2,
       "version_minor": 0
      },
      "text/plain": [
       "Box(children=(Output(),), layout=Layout(align_items='center', display='flex', flex_flow='row', justify_content…"
      ]
     },
     "metadata": {},
     "output_type": "display_data"
    }
   ],
   "source": [
    "def on_button_clicked(arg):\n",
    "    with out:\n",
    "        clear_output()\n",
    "        if not feature_dropdown.value==\"YOB\":\n",
    "            if label_dropdown.value=='Value':\n",
    "                col = df_values['Value'].unique()[:-3]\n",
    "            else:\n",
    "                col = df_values['Value Group'].unique()[:-1]\n",
    "            col_list = col.tolist()\n",
    "            col_list.insert(0, 'WT')\n",
    "            col_list.append(feature_dropdown.value)\n",
    "\n",
    "            if weight_dropdown.value:\n",
    "                df_tot = df_all.copy()\n",
    "                df_plot = df_tot.groupby(feature_dropdown.value)[col_list].sum().reset_index()\n",
    "                df_plot.set_index(feature_dropdown.value, inplace=True)\n",
    "                df_plot.iloc[:,1:] = df_plot.iloc[:,1:].div(df_plot.WT, axis=0)\n",
    "            else:\n",
    "                df_tot = df_all_unweighted.copy()\n",
    "                df_plot = df_tot.groupby(feature_dropdown.value)[col_list].mean().reset_index()\n",
    "                df_plot.set_index(feature_dropdown.value, inplace=True)\n",
    "\n",
    "            df_plot.drop('WT',axis=1,inplace=True)\n",
    "\n",
    "            if check_dropdown.value:    \n",
    "                df_plot.loc['total',:] = df_plot.sum(axis=0)\n",
    "                df_plot.iloc[:-1,:] = df_plot.iloc[:-1,:] / df_plot.iloc[-1,:]\n",
    "                df_plot.drop(['total'],inplace = True)\n",
    "                df_plot = df_plot.T\n",
    "                fig = px.bar(df_plot, x= df_plot.index, y = df_plot.columns)\n",
    "            else:\n",
    "                df_plot = df_plot.T\n",
    "                fig = px.bar(df_plot, x= df_plot.index, y = df_plot.columns, barmode = 'group')\n",
    "            fig.show()\n",
    "        else:\n",
    "            display(\"Wrong input\")\n",
    "\n",
    "box_layout = Layout(display=\"flex\", flex_flow='row', align_items='center', width='100%', justify_content = 'center')\n",
    "\n",
    "feature_dropdown = widgets.Dropdown(\n",
    "    options = df_responses.columns[1:-23],\n",
    "    description = 'Feature: ',\n",
    "    value = 'Region',\n",
    "    style={'description_width': 'initial'},\n",
    "    layout={'width': 'initial'}, \n",
    ")\n",
    "\n",
    "label_dropdown = widgets.Dropdown(\n",
    "    options = ['Value', 'Value group'],\n",
    "    description = 'Label: ',\n",
    "    value = 'Value',\n",
    "    style={'description_width': 'initial'},\n",
    "    layout={'width': 'initial'}, \n",
    ")\n",
    "\n",
    "check_dropdown = widgets.Checkbox(\n",
    "    value=False,\n",
    "    description='Percentage',\n",
    "    disabled=False,\n",
    "    indent=False\n",
    ")\n",
    "\n",
    "weight_dropdown = widgets.Checkbox(\n",
    "    value=False,\n",
    "    description='Weighted',\n",
    "    disabled=False,\n",
    "    indent=False\n",
    ")\n",
    "\n",
    "go_button = widgets.Button(\n",
    "    description='Submit',\n",
    "    disabled=False,\n",
    "    button_style='success',\n",
    ")\n",
    "\n",
    "go_button.on_click(on_button_clicked)\n",
    "out = widgets.Output()\n",
    "display(Box(children = [feature_dropdown, label_dropdown, go_button]), layout = box_layout)\n",
    "display(Box(children = [check_dropdown, weight_dropdown]), layout = box_layout)\n",
    "display(Box(children = [out], layout=box_layout))"
   ]
  },
  {
   "cell_type": "code",
   "execution_count": null,
   "id": "republican-screening",
   "metadata": {},
   "outputs": [],
   "source": []
  }
 ],
 "metadata": {
  "kernelspec": {
   "display_name": "Python 3",
   "language": "python",
   "name": "python3"
  },
  "language_info": {
   "codemirror_mode": {
    "name": "ipython",
    "version": 3
   },
   "file_extension": ".py",
   "mimetype": "text/x-python",
   "name": "python",
   "nbconvert_exporter": "python",
   "pygments_lexer": "ipython3",
   "version": "3.8.6"
  }
 },
 "nbformat": 4,
 "nbformat_minor": 5
}
